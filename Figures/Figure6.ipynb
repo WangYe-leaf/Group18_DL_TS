{
 "cells": [
  {
   "cell_type": "code",
   "execution_count": 1,
   "id": "42c84f97",
   "metadata": {},
   "outputs": [],
   "source": [
    "import pandas as pd\n",
    "import numpy as np\n",
    "import seaborn as sns\n",
    "import matplotlib.pyplot as plt"
   ]
  },
  {
   "cell_type": "code",
   "execution_count": 2,
   "id": "19ffcf54",
   "metadata": {},
   "outputs": [
    {
     "data": {
      "application/vnd.microsoft.datawrangler.viewer.v0+json": {
       "columns": [
        {
         "name": "index",
         "rawType": "int64",
         "type": "integer"
        },
        {
         "name": "model",
         "rawType": "object",
         "type": "string"
        },
        {
         "name": "MSE",
         "rawType": "float64",
         "type": "float"
        },
        {
         "name": "MAE",
         "rawType": "float64",
         "type": "float"
        }
       ],
       "conversionMethod": "pd.DataFrame",
       "ref": "2d5ec336-162d-4702-bfeb-78f80a38b15b",
       "rows": [
        [
         "0",
         "TimeMixer",
         "1.802457142857143",
         "0.8336571428571429"
        ],
        [
         "1",
         "PatchTST",
         "2.1499071855",
         "0.9522360969125001"
        ],
        [
         "2",
         "TimesNet",
         "2.4918199999999997",
         "0.99484"
        ],
        [
         "3",
         "Arima",
         "0.7213658",
         "0.6273867999999999"
        ],
        [
         "4",
         "Gradient Boosting",
         "0.70776575",
         "0.44681424999999997"
        ]
       ],
       "shape": {
        "columns": 3,
        "rows": 5
       }
      },
      "text/html": [
       "<div>\n",
       "<style scoped>\n",
       "    .dataframe tbody tr th:only-of-type {\n",
       "        vertical-align: middle;\n",
       "    }\n",
       "\n",
       "    .dataframe tbody tr th {\n",
       "        vertical-align: top;\n",
       "    }\n",
       "\n",
       "    .dataframe thead th {\n",
       "        text-align: right;\n",
       "    }\n",
       "</style>\n",
       "<table border=\"1\" class=\"dataframe\">\n",
       "  <thead>\n",
       "    <tr style=\"text-align: right;\">\n",
       "      <th></th>\n",
       "      <th>model</th>\n",
       "      <th>MSE</th>\n",
       "      <th>MAE</th>\n",
       "    </tr>\n",
       "  </thead>\n",
       "  <tbody>\n",
       "    <tr>\n",
       "      <th>0</th>\n",
       "      <td>TimeMixer</td>\n",
       "      <td>1.802457</td>\n",
       "      <td>0.833657</td>\n",
       "    </tr>\n",
       "    <tr>\n",
       "      <th>1</th>\n",
       "      <td>PatchTST</td>\n",
       "      <td>2.149907</td>\n",
       "      <td>0.952236</td>\n",
       "    </tr>\n",
       "    <tr>\n",
       "      <th>2</th>\n",
       "      <td>TimesNet</td>\n",
       "      <td>2.491820</td>\n",
       "      <td>0.994840</td>\n",
       "    </tr>\n",
       "    <tr>\n",
       "      <th>3</th>\n",
       "      <td>Arima</td>\n",
       "      <td>0.721366</td>\n",
       "      <td>0.627387</td>\n",
       "    </tr>\n",
       "    <tr>\n",
       "      <th>4</th>\n",
       "      <td>Gradient Boosting</td>\n",
       "      <td>0.707766</td>\n",
       "      <td>0.446814</td>\n",
       "    </tr>\n",
       "  </tbody>\n",
       "</table>\n",
       "</div>"
      ],
      "text/plain": [
       "               model       MSE       MAE\n",
       "0          TimeMixer  1.802457  0.833657\n",
       "1           PatchTST  2.149907  0.952236\n",
       "2           TimesNet  2.491820  0.994840\n",
       "3              Arima  0.721366  0.627387\n",
       "4  Gradient Boosting  0.707766  0.446814"
      ]
     },
     "execution_count": 2,
     "metadata": {},
     "output_type": "execute_result"
    }
   ],
   "source": [
    "df3 = pd.read_excel(\"generalization_illness.xlsx\", sheet_name = \"Sheet2\")\n",
    "df3.head()"
   ]
  },
  {
   "cell_type": "code",
   "execution_count": 3,
   "id": "8260c02c",
   "metadata": {},
   "outputs": [
    {
     "data": {
      "text/plain": [
       "<Figure size 1000x600 with 0 Axes>"
      ]
     },
     "metadata": {},
     "output_type": "display_data"
    },
    {
     "data": {
      "image/png": "[encoded data removed]",
      "text/plain": [
       "<Figure size 640x480 with 1 Axes>"
      ]
     },
     "metadata": {},
     "output_type": "display_data"
    }
   ],
   "source": [
    "plt.figure(figsize=(10, 6))\n",
    "df3.plot(x='model', y=['MSE', 'MAE'], kind='bar', color=['lightblue', 'steelblue'], alpha=0.7)\n",
    "plt.xlabel('Model')\n",
    "plt.ylabel('Error Value')\n",
    "plt.xticks(rotation=0)\n",
    "plt.legend(title='Metric')\n",
    "plt.tight_layout()\n",
    "plt.show()"
   ]
  }
 ],
 "metadata": {
  "kernelspec": {
   "display_name": "Python 3",
   "language": "python",
   "name": "python3"
  },
  "language_info": {
   "codemirror_mode": {
    "name": "ipython",
    "version": 3
   },
   "file_extension": ".py",
   "mimetype": "text/x-python",
   "name": "python",
   "nbconvert_exporter": "python",
   "pygments_lexer": "ipython3",
   "version": "3.13.1"
  }
 },
 "nbformat": 4,
 "nbformat_minor": 5
}
